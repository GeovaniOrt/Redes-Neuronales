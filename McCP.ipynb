{
  "nbformat": 4,
  "nbformat_minor": 0,
  "metadata": {
    "colab": {
      "provenance": [],
      "authorship_tag": "ABX9TyN9oOaAdr40fA6sSHoI7KYZ",
      "include_colab_link": true
    },
    "kernelspec": {
      "name": "python3",
      "display_name": "Python 3"
    },
    "language_info": {
      "name": "python"
    }
  },
  "cells": [
    {
      "cell_type": "markdown",
      "metadata": {
        "id": "view-in-github",
        "colab_type": "text"
      },
      "source": [
        "<a href=\"https://colab.research.google.com/github/GeovaniOrt/Redes-Neuronales/blob/main/McCP.ipynb\" target=\"_parent\"><img src=\"https://colab.research.google.com/assets/colab-badge.svg\" alt=\"Open In Colab\"/></a>"
      ]
    },
    {
      "cell_type": "markdown",
      "source": [
        "# Redes Neuronales"
      ],
      "metadata": {
        "id": "XotDiNAg8AHv"
      }
    },
    {
      "cell_type": "markdown",
      "source": [
        "## McCullochPitts"
      ],
      "metadata": {
        "id": "ypHIKD3N8C_O"
      }
    },
    {
      "cell_type": "markdown",
      "source": [
        "Está neurona es el primer modelo matemático de una neurona artificial, propuesto en 1943 por el neurofisiólogo Warren McCulloch y el lógico Walter Pitts. 🧠 Fue la piedra angular que sentó las bases para el desarrollo de las redes neuronales artificiales y el campo del Deep Learning."
      ],
      "metadata": {
        "id": "iM8uCx5h8biy"
      }
    },
    {
      "cell_type": "markdown",
      "source": [
        "### Función AND"
      ],
      "metadata": {
        "id": "rHDi4jmU80-z"
      }
    },
    {
      "cell_type": "code",
      "source": [
        "\"\"\"\n",
        "Entrada de parametros/variables para la neurona\n",
        "\"\"\"\n",
        "import numpy as np\n",
        "# Entradas para la neurona\n",
        "x = np.array([\n",
        "    [0, 0],\n",
        "    [0, 1],\n",
        "    [1, 0],\n",
        "    [1, 1]\n",
        "])\n",
        "# Salidas\n",
        "y = np.array([0, 0, 0, 1])\n",
        "# Pesos para las entradas\n",
        "z = [1, 1]\n",
        "# Umbral (θ)\n",
        "umbral = 2"
      ],
      "metadata": {
        "id": "_nikDTkU8dnE"
      },
      "execution_count": 1,
      "outputs": []
    },
    {
      "cell_type": "code",
      "source": [
        "\"\"\"\n",
        "Funcón para el funcionamiento de la neurona de McCulloch-Pitts\n",
        "\"\"\"\n",
        "class McCullochPitts:\n",
        "    def __init__(self, weights, umbral):\n",
        "        self.weights = weights\n",
        "        self.umbral = umbral\n",
        "\n",
        "    def predict(self, x):\n",
        "        # Lista donde se guardarán las salidas\n",
        "        predictions = []\n",
        "        for i in range(x.shape[0]):\n",
        "            weighted_sum = np.dot(self.weights, x[i])\n",
        "            print(f\"Input: {x[i]}, Weighted Sum: {weighted_sum}\")\n",
        "            if weighted_sum >= self.umbral:\n",
        "                predictions.append(1)\n",
        "            else:\n",
        "                predictions.append(0)\n",
        "        return predictions"
      ],
      "metadata": {
        "id": "goiYuEX58MG9"
      },
      "execution_count": 2,
      "outputs": []
    },
    {
      "cell_type": "code",
      "execution_count": 4,
      "metadata": {
        "colab": {
          "base_uri": "https://localhost:8080/"
        },
        "id": "QOKKi5Rh7_co",
        "outputId": "6932f3ce-0054-4049-85cb-de9a78affea7"
      },
      "outputs": [
        {
          "output_type": "stream",
          "name": "stdout",
          "text": [
            "Input: [0 0], Weighted Sum: 0\n",
            "Input: [0 1], Weighted Sum: 1\n",
            "Input: [1 0], Weighted Sum: 1\n",
            "Input: [1 1], Weighted Sum: 2\n",
            "Predictions: [0, 0, 0, 1]\n"
          ]
        }
      ],
      "source": [
        "\"\"\"\n",
        "Imprime y muestra resultados de la neurona\n",
        "\"\"\"\n",
        "mcp = McCullochPitts(z, umbral)\n",
        "# Calculamos las predicciones\n",
        "predictions = mcp.predict(x)\n",
        "# Muestra el resultado final\n",
        "print(\"Predictions:\", predictions)"
      ]
    },
    {
      "cell_type": "markdown",
      "source": [
        "### Función OR"
      ],
      "metadata": {
        "id": "tEqaH7dz-DLp"
      }
    },
    {
      "cell_type": "code",
      "source": [
        "\"\"\"\n",
        "Entrada de parametros/variables para la neurona\n",
        "\"\"\"\n",
        "# Entradas para la neurona\n",
        "a = np.array([\n",
        "    [0, 0],\n",
        "    [0, 1],\n",
        "    [1, 0],\n",
        "    [1, 1]\n",
        "])\n",
        "# Salidas\n",
        "b = np.array([0, 1, 1, 1])\n",
        "# Pesos para las entradas\n",
        "c = [3, 2]\n",
        "# Umbral (θ)\n",
        "umbral = 2"
      ],
      "metadata": {
        "id": "WqayWsYP-hxo"
      },
      "execution_count": 13,
      "outputs": []
    },
    {
      "cell_type": "code",
      "source": [
        "\"\"\"\n",
        "Funcón para el funcionamiento de la neurona de McCulloch-Pitts\n",
        "\"\"\"\n",
        "class McCullochPitts:\n",
        "    def __init__(self, weights, umbral):\n",
        "        self.weights = weights\n",
        "        self.umbral = umbral\n",
        "\n",
        "    def predict(self, a):\n",
        "        # Lista donde se guardarán las salidas\n",
        "        predictions = []\n",
        "        for i in range(a.shape[0]):\n",
        "            weighted_sum = np.dot(self.weights, a[i])\n",
        "            print(f\"Input: {a[i]}, Weighted Sum: {weighted_sum}\")\n",
        "            if weighted_sum >= self.umbral:\n",
        "                predictions.append(1)\n",
        "            else:\n",
        "                predictions.append(0)\n",
        "        return predictions"
      ],
      "metadata": {
        "id": "d4vKHK8x-s7p"
      },
      "execution_count": 6,
      "outputs": []
    },
    {
      "cell_type": "code",
      "execution_count": 14,
      "metadata": {
        "colab": {
          "base_uri": "https://localhost:8080/"
        },
        "outputId": "a80326bb-3180-4cba-fcf8-2947153618de",
        "id": "ppZI1NeF-7l2"
      },
      "outputs": [
        {
          "output_type": "stream",
          "name": "stdout",
          "text": [
            "Input: [0 0], Weighted Sum: 0\n",
            "Input: [0 1], Weighted Sum: 2\n",
            "Input: [1 0], Weighted Sum: 3\n",
            "Input: [1 1], Weighted Sum: 5\n",
            "Predictions: [0, 1, 1, 1]\n"
          ]
        }
      ],
      "source": [
        "\"\"\"\n",
        "Imprime y muestra resultados de la neurona\n",
        "\"\"\"\n",
        "mcp = McCullochPitts(c, umbral)\n",
        "# Calculamos las predicciones\n",
        "predictions = mcp.predict(a)\n",
        "# Muestra el resultado final\n",
        "print(\"Predictions:\", predictions)"
      ]
    },
    {
      "cell_type": "markdown",
      "source": [
        "### Función NOT"
      ],
      "metadata": {
        "id": "h4YKzz_M_YLH"
      }
    },
    {
      "cell_type": "code",
      "source": [
        "\"\"\"\n",
        "Entrada de parametros/variables para la neurona\n",
        "\"\"\"\n",
        "# Entradas para la neurona\n",
        "d = np.array([\n",
        "    [0],\n",
        "    [1]\n",
        "])\n",
        "# Salidas\n",
        "e = np.array([0, 1])\n",
        "# Pesos para las entradas\n",
        "f = [-1]\n",
        "# Umbral (θ)\n",
        "umbral = 0"
      ],
      "metadata": {
        "id": "fhui6XXU_fOT"
      },
      "execution_count": 23,
      "outputs": []
    },
    {
      "cell_type": "code",
      "source": [
        "\"\"\"\n",
        "Funcón para el funcionamiento de la neurona de McCulloch-Pitts\n",
        "\"\"\"\n",
        "class McCullochPitts:\n",
        "    def __init__(self, weights, umbral):\n",
        "        self.weights = weights\n",
        "        self.umbral = umbral\n",
        "\n",
        "    def predict(self, d):\n",
        "        # Lista donde se guardarán las salidas\n",
        "        predictions = []\n",
        "        for i in range(d.shape[0]):\n",
        "            weighted_sum = np.dot(self.weights, d[i])\n",
        "            print(f\"Input: {d[i]}, Weighted Sum: {weighted_sum}\")\n",
        "            if weighted_sum >= self.umbral:\n",
        "                predictions.append(1)\n",
        "            else:\n",
        "                predictions.append(0)\n",
        "        return predictions"
      ],
      "metadata": {
        "id": "Vz5LnmpqAT8m"
      },
      "execution_count": 21,
      "outputs": []
    },
    {
      "cell_type": "code",
      "execution_count": 24,
      "metadata": {
        "colab": {
          "base_uri": "https://localhost:8080/"
        },
        "outputId": "7a7e99ff-335d-43c4-d077-2d771ffcbc96",
        "id": "NGKQk3BZAfZ0"
      },
      "outputs": [
        {
          "output_type": "stream",
          "name": "stdout",
          "text": [
            "Input: [0], Weighted Sum: 0\n",
            "Input: [1], Weighted Sum: -1\n",
            "Predictions: [1, 0]\n"
          ]
        }
      ],
      "source": [
        "\"\"\"\n",
        "Imprime y muestra resultados de la neurona\n",
        "\"\"\"\n",
        "mcp = McCullochPitts(f, umbral)\n",
        "# Calculamos las predicciones\n",
        "predictions = mcp.predict(d)\n",
        "# Muestra el resultado final\n",
        "print(\"Predictions:\", predictions)"
      ]
    }
  ]
}